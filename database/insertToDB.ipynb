{
 "cells": [
  {
   "cell_type": "code",
   "execution_count": 19,
   "metadata": {},
   "outputs": [],
   "source": [
    "import json\n",
    "import mysql.connector"
   ]
  },
  {
   "cell_type": "code",
   "execution_count": 20,
   "metadata": {},
   "outputs": [],
   "source": [
    "# Products Insertion\n",
    "\n",
    "# Read the JSON file\n",
    "with open(\"./Data/products.json\", encoding=\"utf-8\" ) as file:\n",
    "  products_json = json.load(file)\n",
    "  \n",
    "# Connection to the MySQL database\n",
    "connection = mysql.connector.connect(\n",
    "  host = '127.0.0.1',\n",
    "  user = 'root',\n",
    "  password = 'password',\n",
    "  database = 'esuper'\n",
    ")\n",
    "\n",
    "# Create a cursor to execute SQL queries\n",
    "cursor = connection.cursor()\n",
    "\n",
    "# create the insertion query\n",
    "insert_products_query = \"INSERT INTO product (product_name, category, subcategory, img) VALUES (%s, %s, %s, %s)\"\n",
    "\n",
    "# Iterate through the JSON data and insert it into the table\n",
    "for item in products_json: \n",
    "  product_data_tuple = (item['name'], item[\"category\"], item[\"subcategory\"], item[\"image\"])\n",
    "  cursor.execute(insert_products_query, product_data_tuple)\n",
    "  \n",
    "# Commit the changes to the database\n",
    "connection.commit()"
   ]
  },
  {
   "cell_type": "code",
   "execution_count": 21,
   "metadata": {},
   "outputs": [],
   "source": [
    "# Stores Insertion\n",
    "\n",
    "def get_field(data, field_names):\n",
    "  for name in field_names:\n",
    "    if name in data:\n",
    "      return data[name]\n",
    "  return \"Supermarket\"\n",
    "\n",
    "def flatten_geometry(geometry):\n",
    "  return geometry.get(\"coordinates\", \"\")\n",
    "\n",
    "\n",
    "# Read the JSON file\n",
    "with open(\"./Data/stores.json\", encoding=\"utf-8\" ) as file:\n",
    "  stores_json = json.load(file)\n",
    "\n",
    "# create the insertion query\n",
    "insert_stores_query = \"INSERT INTO store (store_name, longitude, latitude) VALUES (%s, %s, %s)\"\n",
    "\n",
    "for item in stores_json:\n",
    "  name_or_brand = get_field(item[\"properties\"], [\"name\", \"brand\"])\n",
    "  coordinates = item[\"geometry\"].get(\"coordinates\", \"\")\n",
    "  latitude = coordinates[0]\n",
    "  longitude = coordinates[1]\n",
    "  store_data_tuple = (name_or_brand, longitude, latitude)\n",
    "  cursor.execute(insert_stores_query, store_data_tuple)\n",
    "  \n",
    "# Commit the changes to the database\n",
    "connection.commit()"
   ]
  },
  {
   "cell_type": "code",
   "execution_count": 22,
   "metadata": {},
   "outputs": [
    {
     "name": "stdout",
     "output_type": "stream",
     "text": [
      "8016e637b54241f8ad242ed1699bf2da Βρεφικά Είδη\n",
      "d41744460283406a86f8e4bd5010a66d Καθαριότητα\n",
      "a8ac6be68b53443bbd93b229e2f9cd34 Ποτά - Αναψυκτικά\n",
      "8e8117f7d9d64cf1a931a351eb15bd69 Προσωπική φροντίδα\n",
      "ee0022e7b1b34eb2b834ea334cda52e7 Τρόφιμα\n",
      "e4b4de2e31fc43b7b68a0fe4fbfad2e6 Αντισηπτικά\n",
      "2d5f74de114747fd824ca8a6a9d687fa Προστασία Υγείας\n",
      "662418cbd02e435280148dbb8892782a Για κατοικίδια\n"
     ]
    }
   ],
   "source": [
    "# Categories Insertion\n",
    "\n",
    "# Read the JSON file\n",
    "with open(\"./Data/categories.json\", encoding=\"utf-8\" ) as file:\n",
    "  categories_json = json.load(file)\n",
    "  \n",
    "# create the insertion query\n",
    "insert_category_query = \"INSERT INTO category (category_id, category_name) VALUES (%s, %s)\"\n",
    "\n",
    "# Iterate through the JSON data and insert it into the table\n",
    "for item in categories_json:\n",
    "  category_data_tuple = (item[\"id\"], item[\"name\"])\n",
    "  cursor.execute(insert_category_query, category_data_tuple)\n",
    "  \n",
    "# Commit the changes to the database\n",
    "connection.commit()"
   ]
  },
  {
   "cell_type": "code",
   "execution_count": 30,
   "metadata": {},
   "outputs": [],
   "source": [
    "# Subcategories Insertion\n",
    "\n",
    "# Read the JSON file\n",
    "with open(\"./Data/categories.json\", encoding=\"utf-8\" ) as file:\n",
    "  subcategories_json = json.load(file)\n",
    "  \n",
    "# create the insertion query\n",
    "insert_subcategory_query = \"INSERT INTO subcategory (subcategory_id, subcategory_name, parent_id) VALUES (%s, %s, %s)\"\n",
    "\n",
    "def flatten_subcategories(subcategories):\n",
    "  return subcategories.get(\"name\"), subcategories.get(\"uuid\")\n",
    "\n",
    "# Iterate through the JSON data and insert it into the table\n",
    "for item in subcategories_json:\n",
    "  parent_category = item[\"id\"]\n",
    "  subcategories_array = item[\"subcategories\"]\n",
    "  for subcategory in subcategories_array:\n",
    "    subcategory_data_tuple = (subcategory[\"uuid\"], subcategory[\"name\"], parent_category)\n",
    "    cursor.execute(insert_subcategory_query, subcategory_data_tuple)\n",
    "     \n",
    "# Commit the changes to the database\n",
    "connection.commit()"
   ]
  },
  {
   "cell_type": "code",
   "execution_count": 31,
   "metadata": {},
   "outputs": [],
   "source": [
    "# Close the cursor and connection\n",
    "cursor.close()\n",
    "connection.close()"
   ]
  }
 ],
 "metadata": {
  "kernelspec": {
   "display_name": "Python 3",
   "language": "python",
   "name": "python3"
  },
  "language_info": {
   "codemirror_mode": {
    "name": "ipython",
    "version": 3
   },
   "file_extension": ".py",
   "mimetype": "text/x-python",
   "name": "python",
   "nbconvert_exporter": "python",
   "pygments_lexer": "ipython3",
   "version": "3.11.2"
  },
  "orig_nbformat": 4
 },
 "nbformat": 4,
 "nbformat_minor": 2
}
